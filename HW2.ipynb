{
 "cells": [
  {
   "cell_type": "code",
   "execution_count": 1,
   "id": "4014f5fc-9744-4073-9b0c-283776686369",
   "metadata": {},
   "outputs": [
    {
     "ename": "LoadError",
     "evalue": "ArgumentError: Package HTTP not found in current path:\n- Run `import Pkg; Pkg.add(\"HTTP\")` to install the HTTP package.\n",
     "output_type": "error",
     "traceback": [
      "ArgumentError: Package HTTP not found in current path:\n- Run `import Pkg; Pkg.add(\"HTTP\")` to install the HTTP package.\n",
      "",
      "Stacktrace:",
      " [1] require(into::Module, mod::Symbol)",
      "   @ Base ./loading.jl:967",
      " [2] eval",
      "   @ ./boot.jl:373 [inlined]",
      " [3] include_string(mapexpr::typeof(REPL.softscope), mod::Module, code::String, filename::String)",
      "   @ Base ./loading.jl:1196"
     ]
    }
   ],
   "source": [
    "using HTTP, CSV, DataFrames\n",
    "\n",
    "data_url = \"https://raw.githubusercontent.com/chu155447/futures-and-options/main/data.csv\"\n",
    "\n",
    "\n",
    "my_file = CSV.File(HTTP.get(data_url).body)\n",
    "\n",
    "df = DataFrame(my_file)\n",
    "\n",
    "#確認my_file類別\n",
    "#typeof(my_file) \n",
    "#typeof(df) \n",
    "\n",
    "#計算測值個數\n",
    "n_day = nrow(df)  \n",
    "\n",
    "#變數差分\n",
    "delta_S = df[2:n_day,2] - df[1:n_day-1,2]\n",
    "delta_F = df[2:n_day,3] - df[1:n_day-1,3]\n",
    "\n",
    "#計算敘述統計量\n",
    "using Statistics\n",
    "\n",
    "#母體標準差與rho, hedge ratio\n",
    "std_ds1 = std(delta_S, corrected = false)\n",
    "std_df1 = std(delta_F, corrected = false)\n",
    "cov1 = cov(delta_S, delta_F, corrected = false)\n",
    "rho1 = cov1 / std_ds1 / std_df1\n",
    "h1 = rho1 * std_ds1 / std_df1\n",
    "\n",
    "#樣本標準差與rho, hedge ratio\n",
    "std_ds2 = std(delta_S)\n",
    "std_df2 = std(delta_F)\n",
    "cov2 = cov(delta_S, delta_F)\n",
    "rho2 = cov2 / std_ds2 / std_df2\n",
    "h2 = rho2 * std_ds2 / std_df2\n",
    "\n",
    "#利用迴歸計算hedge ratio\n",
    "using GLM\n",
    "mat = hcat(delta_S,delta_F)\n",
    "data = DataFrame(delta_S = mat[:,1],delta_F = mat[:,2])\n",
    "ols = lm(@formula(delta_S ~ delta_F), data)\n"
   ]
  },
  {
   "cell_type": "code",
   "execution_count": null,
   "id": "498e6bae-e8ff-4737-87a2-c3fb25102a41",
   "metadata": {},
   "outputs": [],
   "source": []
  }
 ],
 "metadata": {
  "kernelspec": {
   "display_name": "Julia 1.7.3",
   "language": "julia",
   "name": "julia-1.7"
  },
  "language_info": {
   "file_extension": ".jl",
   "mimetype": "application/julia",
   "name": "julia",
   "version": "1.7.3"
  }
 },
 "nbformat": 4,
 "nbformat_minor": 5
}
