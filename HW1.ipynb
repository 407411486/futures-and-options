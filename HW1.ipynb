{
 "cells": [
  {
   "cell_type": "code",
   "execution_count": 2,
   "id": "ae8bb4fb",
   "metadata": {},
   "outputs": [
    {
     "ename": "LoadError",
     "evalue": "ArgumentError: Package plots not found in current path:\n- Run `import Pkg; Pkg.add(\"plots\")` to install the plots package.\n",
     "output_type": "error",
     "traceback": [
      "ArgumentError: Package plots not found in current path:\n- Run `import Pkg; Pkg.add(\"plots\")` to install the plots package.\n",
      "",
      "Stacktrace:",
      " [1] require(into::Module, mod::Symbol)",
      "   @ Base ./loading.jl:967",
      " [2] eval",
      "   @ ./boot.jl:373 [inlined]",
      " [3] include_string(mapexpr::typeof(REPL.softscope), mod::Module, code::String, filename::String)",
      "   @ Base ./loading.jl:1196"
     ]
    }
   ],
   "source": [
    "n=100\n",
    "k=zeros(n)\n",
    "v=zeros(n)\n",
    "e=zeros(n)\n",
    "\n",
    "for i = 1:n\n",
    "    k[i]=i\n",
    "    v[i]=(1+1/i)^i\n",
    "    e[i]=exp(1)\n",
    "end\n",
    "\n",
    "using plots\n",
    "scatter(k,v, xlabel= \"freq of compounding\", ylabel= \"value\", ylims=(0,3))\n",
    "scatter!(k,e)\n",
    "\n",
    "savefig (\"G:\\\\2022年工作\\\\輔大資料\\\\期貨與選擇權\\\\hw1.png\")"
   ]
  },
  {
   "cell_type": "code",
   "execution_count": null,
   "id": "9fbda0d8",
   "metadata": {},
   "outputs": [],
   "source": []
  }
 ],
 "metadata": {
  "kernelspec": {
   "display_name": "Julia 1.7.3",
   "language": "julia",
   "name": "julia-1.7"
  },
  "language_info": {
   "file_extension": ".jl",
   "mimetype": "application/julia",
   "name": "julia",
   "version": "1.7.3"
  }
 },
 "nbformat": 4,
 "nbformat_minor": 5
}
